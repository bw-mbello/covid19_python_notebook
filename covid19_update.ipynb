{
 "cells": [
  {
   "cell_type": "markdown",
   "metadata": {},
   "source": [
    "# COVID19 update\n",
    "+ based on https://github.com/CSSEGISandData/COVID-19/tree/master/archived_data from John Hopkins University\n",
    "+ Original source: https://www.who.int/emergencies/diseases/novel-coronavirus-2019/situation-reports\n",
    "+ A very good article with a lot of insights is here\n",
    " https://medium.com/@tomaspueyo/coronavirus-act-today-or-people-will-die-f4d3d9cd99ca\n"
   ]
  },
  {
   "cell_type": "code",
   "execution_count": null,
   "metadata": {},
   "outputs": [],
   "source": [
    "%matplotlib inline"
   ]
  },
  {
   "cell_type": "code",
   "execution_count": null,
   "metadata": {},
   "outputs": [],
   "source": [
    "import pandas as pd\n",
    "import os"
   ]
  },
  {
   "cell_type": "code",
   "execution_count": null,
   "metadata": {},
   "outputs": [],
   "source": [
    "import numpy as np\n",
    "import matplotlib.pyplot as plt\n",
    "from scipy.optimize import curve_fit\n",
    "from IPython.display import display, Markdown\n",
    "import collections\n",
    "import datetime"
   ]
  },
  {
   "cell_type": "code",
   "execution_count": null,
   "metadata": {},
   "outputs": [],
   "source": [
    "# https://github.com/CSSEGISandData/COVID-19/tree/master/csse_covid_19_data/csse_covid_19_time_series"
   ]
  },
  {
   "cell_type": "code",
   "execution_count": null,
   "metadata": {},
   "outputs": [],
   "source": [
    "ccpw = r'https://raw.githubusercontent.com/CSSEGISandData/COVID-19/master/csse_covid_19_data/csse_covid_19_time_series/time_series_19-covid-Confirmed.csv'\n",
    "cdpw = r'https://raw.githubusercontent.com/CSSEGISandData/COVID-19/master/csse_covid_19_data/csse_covid_19_time_series/time_series_19-covid-Deaths.csv'\n",
    "crpw = r'https://raw.githubusercontent.com/CSSEGISandData/COVID-19/master/csse_covid_19_data/csse_covid_19_time_series/time_series_19-covid-Recovered.csv'\n",
    "\n",
    "df_recovered_all = pd.read_csv(crpw).dropna(axis = 1, how = 'all')\n",
    "df_confirmed_all = pd.read_csv(ccpw).dropna(axis = 1, how = 'all')\n",
    "df_deaths_all = pd.read_csv(cdpw).dropna(axis = 1, how = 'all')"
   ]
  },
  {
   "cell_type": "code",
   "execution_count": null,
   "metadata": {},
   "outputs": [],
   "source": []
  },
  {
   "cell_type": "code",
   "execution_count": null,
   "metadata": {},
   "outputs": [],
   "source": [
    "LocationColumns = ['Province/State', 'Country/Region', 'Lat', 'Long']\n",
    "DataColumns = list(df_confirmed_all.columns[4:])\n",
    "DataColumnsDT = pd.to_datetime(DataColumns)\n",
    "DataColumnsDT[:2], DataColumnsDT[-2:]"
   ]
  },
  {
   "cell_type": "markdown",
   "metadata": {},
   "source": [
    "## Some data info"
   ]
  },
  {
   "cell_type": "code",
   "execution_count": null,
   "metadata": {},
   "outputs": [],
   "source": [
    "countries = df_confirmed_all['Country/Region'].unique()\n",
    "countries.sort()\n",
    "display(Markdown('*List of Countries*'))\n",
    "print(countries)"
   ]
  },
  {
   "cell_type": "code",
   "execution_count": null,
   "metadata": {},
   "outputs": [],
   "source": []
  },
  {
   "cell_type": "code",
   "execution_count": null,
   "metadata": {},
   "outputs": [],
   "source": [
    "us_county_states = df_confirmed_all[df_confirmed_all['Country/Region'] == 'US']['Province/State'].unique()\n",
    "us_county_states.sort()\n",
    "display(Markdown('*List of US States*'))\n",
    "us_states = sorted([rs for rs in us_county_states if not ',' in rs])\n",
    "print (us_states)\n",
    "display(Markdown('*List of US Counties*'))\n",
    "print ( us_county_states)\n",
    "princesses = sorted([rs for rs in us_county_states if  'Princess' in rs])\n",
    "display(Markdown('*List of Cruise Ships*'))\n",
    "print ( princesses)"
   ]
  },
  {
   "cell_type": "markdown",
   "metadata": {},
   "source": [
    "## Some code"
   ]
  },
  {
   "cell_type": "code",
   "execution_count": null,
   "metadata": {},
   "outputs": [],
   "source": [
    "last_update, m_series['count'].index[-1]"
   ]
  },
  {
   "cell_type": "code",
   "execution_count": null,
   "metadata": {},
   "outputs": [],
   "source": [
    "def compute_series(df_metric):\n",
    "    m_series = {}\n",
    "    # count\n",
    "    count = df_metric[DataColumns].sum(axis = 0)\n",
    "    count = df_metric[DataColumns].sum(axis = 0)\n",
    "    count.index = DataColumnsDT\n",
    "    count = count[count > 0]\n",
    "    m_series['count'] = count\n",
    "    m_series['log(count)'] = np.log(count)\n",
    "    m_series['d(count)/dt'] = count.diff()\n",
    "    m_series['d(log(count))/dt'] = count.diff()/count\n",
    "    return m_series\n",
    "\n",
    "def display_series(m_series, series_label, selection_location, save_fig_dir = '.'):\n",
    "    plt.figure(figsize = (16,10))\n",
    "    stitle = '{0} charts for {1} as of {2}'.format(series_label, selection_location, last_update )\n",
    "    plt.suptitle(stitle, fontsize = 16)\n",
    "    plot_index = 220\n",
    "    for key in m_series.keys():\n",
    "        series = m_series[key]\n",
    "        plot_index += 1\n",
    "        plt.subplot(plot_index)\n",
    "        title = '{0} {1}'.format(series_label, key)\n",
    "        series.plot(grid = True, title = title)\n",
    "    fpath = os.path.join(save_fig_dir, '{0}.png'.format(stitle))\n",
    "    print(fpath)\n",
    "    fig1 = plt.gcf()\n",
    "    fig1.tight_layout(pad = 1)\n",
    "    fig1.subplots_adjust(top=0.9)\n",
    "    fig1.savefig(fpath)\n",
    "    v,t = m_series['count'][-1], m_series['count'].index[-1]\n",
    "    s = '### Latest number of {0} in {1} is *{2}* as of {3}'.format(series_label, location_label, v,t )\n",
    "    display(Markdown(s))\n",
    "    return\n"
   ]
  },
  {
   "cell_type": "code",
   "execution_count": null,
   "metadata": {},
   "outputs": [],
   "source": [
    "def model_func(x, a):\n",
    "    return np.exp(a*x)\n",
    "\n",
    "def coeff_evaluate_mean(m_series, days_back):\n",
    "    av_alpha = m_series['d(log(count))/dt'][-days_back:].mean()\n",
    "    return av_alpha, None\n",
    "\n",
    "def coeff_evaluate_bestfit(m_series, days_back):\n",
    "    x = np.arange(0, days_back,1)\n",
    "    y = m_series['count'][-days_back:].values\n",
    "    y = y/y[0]\n",
    "    approx, _ = coeff_evaluate_mean(m_series, days_back)\n",
    "    popt, pcov = curve_fit(model_func, x, y, p0=( approx))\n",
    "    params = collections.OrderedDict()\n",
    "    params['days'] = x\n",
    "    params['data'] = y\n",
    "    params['fitted'] = model_func(x, popt[0])\n",
    "    params['popt'] = popt\n",
    "    params['pcov'] = pcov\n",
    "    params['approx'] = approx\n",
    "    return popt[0], params\n",
    "\n",
    "def multi_factors(m_series, coeff_evaluate, days_back = 7):\n",
    "    av_alpha, _ = coeff_evaluate(m_series, days_back)\n",
    "    count = m_series['count']\n",
    "    day_factor = np.exp(av_alpha)\n",
    "    week_factor = np.exp(av_alpha)**7\n",
    "    projected_week = count[-1]*week_factor\n",
    "    return day_factor, week_factor, projected_week\n",
    "    \n",
    "def multi_factors1(m_series, days_back = 1):\n",
    "    av_alpha = m_series['d(log(count))/dt'][-days_back:].mean()\n",
    "    count = m_series['count']\n",
    "    day_factor = np.exp(av_alpha)\n",
    "    week_factor = np.exp(av_alpha)**7\n",
    "    projected_week = count[-1]*week_factor\n",
    "    return day_factor, week_factor, projected_week\n",
    "\n",
    "def display_factors(day_factor, week_factor, projected_week, series_label, location_label):\n",
    "    print ('Every week the number of {2} increases by a factor of {0} in {1}'.format(week_factor, \n",
    "                                                                                     location_label, series_label))\n",
    "    display(Markdown('### projected number of {0} one week from now is {1:.0f} in {2}'.format(series_label, \n",
    "                                                        projected_week, location_label)))\n",
    "\n",
    "def show_prediction(m_series, series_label, location_label, days_back, days_forward):\n",
    "    def compute_prediction(m_series, days_forward, days_back):\n",
    "        total_days = days_forward + days_back\n",
    "        count = m_series['count']\n",
    "        coeff, _ = coeff_evaluate_bestfit(m_series, days_back)\n",
    "        t0, v0 = count.index[-days_back], count[-days_back]\n",
    "        t_predict = pd.date_range(t0, periods = total_days)\n",
    "        tmp = np.arange(0,total_days)\n",
    "        val_predict = v0*model_func(tmp,coeff)\n",
    "        s_predict= pd.Series(val_predict, t_predict)\n",
    "        return count[-days_back:], s_predict\n",
    "\n",
    "    data, predicted = compute_prediction(m_series, days_forward, days_back)\n",
    "    plt.figure(figsize = (12,8))\n",
    "    data.plot(label = 'data', marker = '*')\n",
    "    predicted.plot(label = 'predicted')\n",
    "    plt.grid(True)\n",
    "    title = 'best fit prediction {0} days forward for {1} in {2} as of {3}'.format(days_forward, \n",
    "                                                                         series_label, location_label, last_update)\n",
    "    plt.title(title)\n",
    "    plt.legend()\n",
    "    plt.savefig(os.path.join(fig_dir,title))\n"
   ]
  },
  {
   "cell_type": "markdown",
   "metadata": {},
   "source": [
    "### Global settings"
   ]
  },
  {
   "cell_type": "code",
   "execution_count": null,
   "metadata": {},
   "outputs": [],
   "source": [
    "work_dir = r'c:\\tmp'\n",
    "day_count = 7\n",
    "days_back = day_count\n",
    "days_forward = 14"
   ]
  },
  {
   "cell_type": "code",
   "execution_count": null,
   "metadata": {},
   "outputs": [],
   "source": [
    "last_update = DataColumnsDT[-1]\n",
    "last_update = str(pd.Timestamp(last_update)).split(' ')[0]"
   ]
  },
  {
   "cell_type": "markdown",
   "metadata": {},
   "source": [
    "## Selection"
   ]
  },
  {
   "cell_type": "markdown",
   "metadata": {},
   "source": [
    "### Country: pick one from the list of the countries above"
   ]
  },
  {
   "cell_type": "code",
   "execution_count": null,
   "metadata": {},
   "outputs": [],
   "source": [
    "# country = 'Korea, South'\n",
    "country = 'Italy'\n",
    "\n",
    "location_label = country\n",
    "location_dir = location_label.replace(',','').replace(\"'\", '')\n",
    "fig_dir = os.path.join(work_dir, 'covid19', last_update, location_dir)\n",
    "os.makedirs(fig_dir, exist_ok = True)\n",
    "print (fig_dir)"
   ]
  },
  {
   "cell_type": "code",
   "execution_count": null,
   "metadata": {},
   "outputs": [],
   "source": [
    "selection = df_confirmed_all['Country/Region'] == country\n",
    "df_confirmed = df_confirmed_all[selection]\n",
    "df_recovered = df_recovered_all[selection]\n",
    "df_deaths    = df_deaths_all[selection]"
   ]
  },
  {
   "cell_type": "code",
   "execution_count": null,
   "metadata": {},
   "outputs": [],
   "source": [
    "series_label = 'confirmed cases'\n",
    "m_series = compute_series(df_confirmed)\n",
    "display_series(m_series, series_label, location_label, fig_dir)    \n"
   ]
  },
  {
   "cell_type": "markdown",
   "metadata": {},
   "source": [
    "Derivative of a logarithm of an exponential function $confirmed = c\\exp(\\alpha t)$ is $\\alpha$. An estimate of how much the population of confirmed cases increases daily is $\\exp(\\bar \\alpha)$ where $\\bar \\alpha$ is the average value of $\\alpha$"
   ]
  },
  {
   "cell_type": "code",
   "execution_count": null,
   "metadata": {},
   "outputs": [],
   "source": [
    "day_factor, week_factor, projected_week = multi_factors(m_series, coeff_evaluate_bestfit)\n",
    "display_factors(day_factor, week_factor, projected_week, series_label, location_label)"
   ]
  },
  {
   "cell_type": "markdown",
   "metadata": {},
   "source": [
    "# Predictions"
   ]
  },
  {
   "cell_type": "markdown",
   "metadata": {},
   "source": [
    "### Show fit. Use it to assess how reasonable the prediction is going to be"
   ]
  },
  {
   "cell_type": "code",
   "execution_count": null,
   "metadata": {},
   "outputs": [],
   "source": [
    "coeff, params = coeff_evaluate_bestfit(m_series, days_back)\n",
    "pd.DataFrame({'raw data': params['data'], 'fitted': params['fitted']}).plot(grid = True, title = 'best fit')"
   ]
  },
  {
   "cell_type": "code",
   "execution_count": null,
   "metadata": {},
   "outputs": [],
   "source": []
  },
  {
   "cell_type": "code",
   "execution_count": null,
   "metadata": {},
   "outputs": [],
   "source": [
    "show_prediction(m_series, series_label, location_label, days_back, days_forward)"
   ]
  },
  {
   "cell_type": "markdown",
   "metadata": {},
   "source": [
    "# Deaths"
   ]
  },
  {
   "cell_type": "code",
   "execution_count": null,
   "metadata": {},
   "outputs": [],
   "source": [
    "series_label = 'deaths'\n",
    "m_series = compute_series(df_deaths)\n",
    "display_series(m_series, series_label, location_label,fig_dir)    \n"
   ]
  },
  {
   "cell_type": "code",
   "execution_count": null,
   "metadata": {},
   "outputs": [],
   "source": [
    "day_factor, week_factor, projected_week = multi_factors(m_series, coeff_evaluate_bestfit)\n",
    "display_factors(day_factor, week_factor, projected_week, series_label, location_label)"
   ]
  },
  {
   "cell_type": "code",
   "execution_count": null,
   "metadata": {},
   "outputs": [],
   "source": [
    "show_prediction(m_series, series_label, location_label, days_back, days_forward)"
   ]
  },
  {
   "cell_type": "markdown",
   "metadata": {},
   "source": [
    "# Recovered"
   ]
  },
  {
   "cell_type": "code",
   "execution_count": null,
   "metadata": {},
   "outputs": [],
   "source": [
    "series_label = 'recovered'\n",
    "m_series = compute_series(df_recovered)\n",
    "display_series(m_series, series_label, location_label,fig_dir)    \n"
   ]
  },
  {
   "cell_type": "code",
   "execution_count": null,
   "metadata": {},
   "outputs": [],
   "source": [
    "day_factor, week_factor, projected_week = multi_factors(m_series, coeff_evaluate_bestfit)\n",
    "display_factors(day_factor, week_factor, projected_week, series_label, location_label)"
   ]
  },
  {
   "cell_type": "code",
   "execution_count": null,
   "metadata": {
    "scrolled": false
   },
   "outputs": [],
   "source": [
    "show_prediction(m_series, series_label, location_label, days_back, days_forward)"
   ]
  },
  {
   "cell_type": "markdown",
   "metadata": {},
   "source": [
    "## Total World Wide"
   ]
  },
  {
   "cell_type": "code",
   "execution_count": null,
   "metadata": {},
   "outputs": [],
   "source": [
    "total_confirmed = df_confirmed_all.sum()[2:]\n",
    "total_deaths = df_deaths_all.sum()[2:]"
   ]
  },
  {
   "cell_type": "code",
   "execution_count": null,
   "metadata": {},
   "outputs": [],
   "source": [
    "plt.figure(figsize = (15,6))\n",
    "plt.subplot(131)\n",
    "total_confirmed.plot()\n",
    "title = 'total confirmed'\n",
    "plt.title(title)\n",
    "plt.grid()\n",
    "plt.subplot(132)\n",
    "total_deaths.plot()\n",
    "title = 'total deaths'\n",
    "plt.title(title)\n",
    "plt.grid()\n",
    "plt.subplot(133)\n",
    "\n",
    "(total_deaths/total_confirmed*100).plot()\n",
    "title = 'total death rate %'.format(country)\n",
    "plt.title(title)\n",
    "plt.grid()"
   ]
  },
  {
   "cell_type": "code",
   "execution_count": null,
   "metadata": {},
   "outputs": [],
   "source": []
  },
  {
   "cell_type": "code",
   "execution_count": null,
   "metadata": {},
   "outputs": [],
   "source": []
  }
 ],
 "metadata": {
  "kernelspec": {
   "display_name": "Python 3",
   "language": "python",
   "name": "python3"
  },
  "language_info": {
   "codemirror_mode": {
    "name": "ipython",
    "version": 3
   },
   "file_extension": ".py",
   "mimetype": "text/x-python",
   "name": "python",
   "nbconvert_exporter": "python",
   "pygments_lexer": "ipython3",
   "version": "3.8.2"
  }
 },
 "nbformat": 4,
 "nbformat_minor": 2
}
