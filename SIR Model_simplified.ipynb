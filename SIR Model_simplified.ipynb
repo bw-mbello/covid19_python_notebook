{
 "cells": [
  {
   "cell_type": "markdown",
   "metadata": {},
   "source": [
    "# Modeling covid19\n",
    "\n",
    "03/2020 Michael Bello \n",
    "mbello@bufferworkshop.com"
   ]
  },
  {
   "cell_type": "markdown",
   "metadata": {},
   "source": [
    "The purpose of this document is to create a simplified model for the growth of an infectious deseas at an early stage in order to fit the covid19 data"
   ]
  },
  {
   "cell_type": "markdown",
   "metadata": {},
   "source": [
    "## Classical SIR model\n",
    "\n",
    "The following is copied and pasted from [1]:\n",
    "\n",
    "<math>\n",
    "\\begin{align}\n",
    "& \\frac{dS}{dt} = - \\frac{\\beta I S}{N}, \\\\[6pt]\n",
    "& \\frac{dI}{dt} = \\frac{\\beta I S}{N}- \\gamma I, \\\\[6pt]\n",
    "& \\frac{dR}{dt} = \\gamma I.\n",
    "\\end{align}\n",
    "</math>\n",
    "\n",
    "Where <math>S</math> is the stock of susceptible population, <math>I</math> is the stock of infected, and <math>R</math> is the stock of recovered population.\n",
    "\n",
    "This model was for the first time proposed by O. Kermack and [[Anderson Gray McKendrick]] as a special case of what we now call [[Kermack-McKendrick theory]], and followed work McKendrick had done with [[Ronald Ross]].\n",
    "\n",
    "## Simplifications\n",
    "\n",
    "+ I am interested in the early phase of the infection spread in a large country (community). At this early phase the number of infected people is much less than the of susceptible as well as the number of recovered. So, it is fair to assume that \n",
    "$$\\frac S N \\approx 1$$ and neglect the first and the third equations\n",
    "+ Second equation can be, thus, rewritten as \n",
    "$$ \\frac{dI}{dt} = (\\beta - \\gamma)I = \\beta_1 I $$\n",
    "Solution to this equation is exponential function:\n",
    "$$ I(t) = I_0\\exp(\\beta_1 t) $$\n",
    "Where $I_0$ is the number of infected at time $t=0$.\n",
    "\n",
    "This is an equation for the number of infected. What available in statistics is the number of confirmed cases. It is reasonable to assume that the number of confirmed cases is a fraction of infected cases:\n",
    "$$ C(t) = \\alpha I(t) = \\alpha I_0 \\exp(\\beta_1 t) = \\alpha_1 \\exp (\\beta_1 t)$$\n",
    "\n",
    "Parameters $\\alpha_1, \\beta_1$ can be found from fitting of the statistical data and used for a prediction in a limited range, of course"
   ]
  },
  {
   "cell_type": "markdown",
   "metadata": {},
   "source": [
    "# References"
   ]
  },
  {
   "cell_type": "markdown",
   "metadata": {},
   "source": [
    "\n",
    "[1] https://en.wikipedia.org/wiki/Compartmental_models_in_epidemiology\n",
    "\n",
    "[2] https://www.maa.org/press/periodicals/loci/joma/the-sir-model-for-spread-of-disease-the-differential-equation-model\n",
    "\n",
    "[3] Hethcote H (2000). \"The Mathematics of Infectious Diseases\". SIAM Review. 42 (4): 599–653. Bibcode:2000SIAMR..42..599H. doi:10.1137/s0036144500371907."
   ]
  }
 ],
 "metadata": {
  "kernelspec": {
   "display_name": "Python 3",
   "language": "python",
   "name": "python3"
  },
  "language_info": {
   "codemirror_mode": {
    "name": "ipython",
    "version": 3
   },
   "file_extension": ".py",
   "mimetype": "text/x-python",
   "name": "python",
   "nbconvert_exporter": "python",
   "pygments_lexer": "ipython3",
   "version": "3.8.2"
  }
 },
 "nbformat": 4,
 "nbformat_minor": 4
}
